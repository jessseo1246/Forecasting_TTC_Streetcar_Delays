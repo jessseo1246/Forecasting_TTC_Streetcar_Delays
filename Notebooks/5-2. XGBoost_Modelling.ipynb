{
 "cells": [
  {
   "cell_type": "markdown",
   "id": "8236eb07",
   "metadata": {},
   "source": [
    "# *Exploring TTC Streetcar Delays and Forecasting Delays*"
   ]
  },
  {
   "cell_type": "markdown",
   "id": "8c05e6e8",
   "metadata": {},
   "source": [
    "- Created on: November, 2023\n",
    "- Created by: Jessica Seo\n",
    "---------"
   ]
  },
  {
   "cell_type": "markdown",
   "id": "0b3ee99b",
   "metadata": {},
   "source": [
    "## 🚂 XGBoost Modelling"
   ]
  },
  {
   "cell_type": "markdown",
   "id": "b89cc16f",
   "metadata": {},
   "source": [
    "### Notebook Contents\n",
    "\n",
    "- [Introduction](#introID)\n",
    "- [Data Loading](#loadingID)\n",
    "- [XGBoost](#modelID)\n",
    "    - Hyperoptimization Tuning\n",
    "    - Model Evaluation \n",
    "- [Summary](#summaryID)\n",
    "- [Model Saving](#saveID)\n",
    "-------"
   ]
  },
  {
   "cell_type": "markdown",
   "id": "60587614",
   "metadata": {},
   "source": [
    "## <a id='introID'> Introduction </a>\n",
    "\n",
    "The next machine learning model we will use in this notebook is XGBoost (Extreme Gradient Boosting). XGBoost is effective for imbalanced classification tasks, making it the right model for our case. Let's find out how the model will perform."
   ]
  },
  {
   "cell_type": "markdown",
   "id": "8d43bfa7",
   "metadata": {},
   "source": [
    "----\n",
    "## <a id='loadingID'> Data Loading</a>"
   ]
  },
  {
   "cell_type": "code",
   "execution_count": 2,
   "id": "a4fb4a6c",
   "metadata": {},
   "outputs": [],
   "source": [
    "#importing necessary python library\n",
    "import pandas as pd\n",
    "import numpy as np\n",
    "import seaborn as sns\n",
    "import matplotlib.pyplot as plt\n",
    "%matplotlib inline"
   ]
  },
  {
   "cell_type": "code",
   "execution_count": 3,
   "id": "afce1547",
   "metadata": {},
   "outputs": [],
   "source": [
    "#importing modelling library\n",
    "from sklearn.model_selection import train_test_split\n",
    "from sklearn.metrics import accuracy_score\n",
    "from sklearn.metrics import confusion_matrix, ConfusionMatrixDisplay\n",
    "from xgboost import XGBClassifier\n",
    "from sklearn.metrics import classification_report\n",
    "from sklearn.preprocessing import StandardScaler\n",
    "from sklearn.model_selection import GridSearchCV"
   ]
  },
  {
   "cell_type": "code",
   "execution_count": 4,
   "id": "5b57e61b",
   "metadata": {},
   "outputs": [],
   "source": [
    "#ignoring warnings\n",
    "import warnings\n",
    "warnings.filterwarnings(\"ignore\")"
   ]
  },
  {
   "cell_type": "code",
   "execution_count": 5,
   "id": "0bbbb5d8",
   "metadata": {},
   "outputs": [
    {
     "data": {
      "text/html": [
       "<div>\n",
       "<style scoped>\n",
       "    .dataframe tbody tr th:only-of-type {\n",
       "        vertical-align: middle;\n",
       "    }\n",
       "\n",
       "    .dataframe tbody tr th {\n",
       "        vertical-align: top;\n",
       "    }\n",
       "\n",
       "    .dataframe thead th {\n",
       "        text-align: right;\n",
       "    }\n",
       "</style>\n",
       "<table border=\"1\" class=\"dataframe\">\n",
       "  <thead>\n",
       "    <tr style=\"text-align: right;\">\n",
       "      <th></th>\n",
       "      <th>Temperature</th>\n",
       "      <th>Precipitation</th>\n",
       "      <th>Summer_PT</th>\n",
       "      <th>Winter_PT</th>\n",
       "      <th>Day</th>\n",
       "      <th>Line</th>\n",
       "      <th>Min_Delay</th>\n",
       "      <th>Year</th>\n",
       "      <th>Month</th>\n",
       "      <th>Date</th>\n",
       "      <th>...</th>\n",
       "      <th>Incident_Late</th>\n",
       "      <th>Incident_Late Entering Service</th>\n",
       "      <th>Incident_Late Leaving Garage</th>\n",
       "      <th>Incident_Management</th>\n",
       "      <th>Incident_Mechanical</th>\n",
       "      <th>Incident_Operations</th>\n",
       "      <th>Incident_Overhead</th>\n",
       "      <th>Incident_Rail/Switches</th>\n",
       "      <th>Incident_Security</th>\n",
       "      <th>Incident_Utilized Off Route</th>\n",
       "    </tr>\n",
       "  </thead>\n",
       "  <tbody>\n",
       "    <tr>\n",
       "      <th>0</th>\n",
       "      <td>-2.0</td>\n",
       "      <td>0.0</td>\n",
       "      <td>False</td>\n",
       "      <td>True</td>\n",
       "      <td>4</td>\n",
       "      <td>501</td>\n",
       "      <td>2</td>\n",
       "      <td>2021</td>\n",
       "      <td>1</td>\n",
       "      <td>1</td>\n",
       "      <td>...</td>\n",
       "      <td>0</td>\n",
       "      <td>0</td>\n",
       "      <td>0</td>\n",
       "      <td>0</td>\n",
       "      <td>0</td>\n",
       "      <td>1</td>\n",
       "      <td>0</td>\n",
       "      <td>0</td>\n",
       "      <td>0</td>\n",
       "      <td>0</td>\n",
       "    </tr>\n",
       "    <tr>\n",
       "      <th>1</th>\n",
       "      <td>-2.0</td>\n",
       "      <td>0.0</td>\n",
       "      <td>False</td>\n",
       "      <td>True</td>\n",
       "      <td>4</td>\n",
       "      <td>504</td>\n",
       "      <td>2</td>\n",
       "      <td>2021</td>\n",
       "      <td>1</td>\n",
       "      <td>1</td>\n",
       "      <td>...</td>\n",
       "      <td>0</td>\n",
       "      <td>0</td>\n",
       "      <td>0</td>\n",
       "      <td>0</td>\n",
       "      <td>0</td>\n",
       "      <td>1</td>\n",
       "      <td>0</td>\n",
       "      <td>0</td>\n",
       "      <td>0</td>\n",
       "      <td>0</td>\n",
       "    </tr>\n",
       "    <tr>\n",
       "      <th>2</th>\n",
       "      <td>-1.4</td>\n",
       "      <td>0.0</td>\n",
       "      <td>False</td>\n",
       "      <td>True</td>\n",
       "      <td>4</td>\n",
       "      <td>504</td>\n",
       "      <td>2</td>\n",
       "      <td>2021</td>\n",
       "      <td>1</td>\n",
       "      <td>1</td>\n",
       "      <td>...</td>\n",
       "      <td>0</td>\n",
       "      <td>0</td>\n",
       "      <td>0</td>\n",
       "      <td>0</td>\n",
       "      <td>0</td>\n",
       "      <td>0</td>\n",
       "      <td>0</td>\n",
       "      <td>0</td>\n",
       "      <td>0</td>\n",
       "      <td>0</td>\n",
       "    </tr>\n",
       "    <tr>\n",
       "      <th>3</th>\n",
       "      <td>-1.4</td>\n",
       "      <td>0.0</td>\n",
       "      <td>False</td>\n",
       "      <td>True</td>\n",
       "      <td>4</td>\n",
       "      <td>504</td>\n",
       "      <td>2</td>\n",
       "      <td>2021</td>\n",
       "      <td>1</td>\n",
       "      <td>1</td>\n",
       "      <td>...</td>\n",
       "      <td>0</td>\n",
       "      <td>0</td>\n",
       "      <td>0</td>\n",
       "      <td>0</td>\n",
       "      <td>0</td>\n",
       "      <td>0</td>\n",
       "      <td>0</td>\n",
       "      <td>0</td>\n",
       "      <td>0</td>\n",
       "      <td>0</td>\n",
       "    </tr>\n",
       "    <tr>\n",
       "      <th>4</th>\n",
       "      <td>0.4</td>\n",
       "      <td>0.0</td>\n",
       "      <td>False</td>\n",
       "      <td>False</td>\n",
       "      <td>4</td>\n",
       "      <td>506</td>\n",
       "      <td>2</td>\n",
       "      <td>2021</td>\n",
       "      <td>1</td>\n",
       "      <td>1</td>\n",
       "      <td>...</td>\n",
       "      <td>0</td>\n",
       "      <td>0</td>\n",
       "      <td>0</td>\n",
       "      <td>0</td>\n",
       "      <td>1</td>\n",
       "      <td>0</td>\n",
       "      <td>0</td>\n",
       "      <td>0</td>\n",
       "      <td>0</td>\n",
       "      <td>0</td>\n",
       "    </tr>\n",
       "    <tr>\n",
       "      <th>...</th>\n",
       "      <td>...</td>\n",
       "      <td>...</td>\n",
       "      <td>...</td>\n",
       "      <td>...</td>\n",
       "      <td>...</td>\n",
       "      <td>...</td>\n",
       "      <td>...</td>\n",
       "      <td>...</td>\n",
       "      <td>...</td>\n",
       "      <td>...</td>\n",
       "      <td>...</td>\n",
       "      <td>...</td>\n",
       "      <td>...</td>\n",
       "      <td>...</td>\n",
       "      <td>...</td>\n",
       "      <td>...</td>\n",
       "      <td>...</td>\n",
       "      <td>...</td>\n",
       "      <td>...</td>\n",
       "      <td>...</td>\n",
       "      <td>...</td>\n",
       "    </tr>\n",
       "    <tr>\n",
       "      <th>41619</th>\n",
       "      <td>16.6</td>\n",
       "      <td>0.0</td>\n",
       "      <td>False</td>\n",
       "      <td>False</td>\n",
       "      <td>5</td>\n",
       "      <td>511</td>\n",
       "      <td>2</td>\n",
       "      <td>2023</td>\n",
       "      <td>9</td>\n",
       "      <td>30</td>\n",
       "      <td>...</td>\n",
       "      <td>0</td>\n",
       "      <td>0</td>\n",
       "      <td>0</td>\n",
       "      <td>0</td>\n",
       "      <td>0</td>\n",
       "      <td>0</td>\n",
       "      <td>0</td>\n",
       "      <td>0</td>\n",
       "      <td>0</td>\n",
       "      <td>0</td>\n",
       "    </tr>\n",
       "    <tr>\n",
       "      <th>41620</th>\n",
       "      <td>16.9</td>\n",
       "      <td>0.0</td>\n",
       "      <td>False</td>\n",
       "      <td>False</td>\n",
       "      <td>5</td>\n",
       "      <td>505</td>\n",
       "      <td>2</td>\n",
       "      <td>2023</td>\n",
       "      <td>9</td>\n",
       "      <td>30</td>\n",
       "      <td>...</td>\n",
       "      <td>0</td>\n",
       "      <td>0</td>\n",
       "      <td>0</td>\n",
       "      <td>0</td>\n",
       "      <td>0</td>\n",
       "      <td>0</td>\n",
       "      <td>0</td>\n",
       "      <td>0</td>\n",
       "      <td>1</td>\n",
       "      <td>0</td>\n",
       "    </tr>\n",
       "    <tr>\n",
       "      <th>41621</th>\n",
       "      <td>16.9</td>\n",
       "      <td>0.0</td>\n",
       "      <td>False</td>\n",
       "      <td>False</td>\n",
       "      <td>5</td>\n",
       "      <td>513</td>\n",
       "      <td>2</td>\n",
       "      <td>2023</td>\n",
       "      <td>9</td>\n",
       "      <td>30</td>\n",
       "      <td>...</td>\n",
       "      <td>0</td>\n",
       "      <td>0</td>\n",
       "      <td>0</td>\n",
       "      <td>0</td>\n",
       "      <td>0</td>\n",
       "      <td>1</td>\n",
       "      <td>0</td>\n",
       "      <td>0</td>\n",
       "      <td>0</td>\n",
       "      <td>0</td>\n",
       "    </tr>\n",
       "    <tr>\n",
       "      <th>41622</th>\n",
       "      <td>16.9</td>\n",
       "      <td>0.0</td>\n",
       "      <td>False</td>\n",
       "      <td>False</td>\n",
       "      <td>5</td>\n",
       "      <td>501</td>\n",
       "      <td>2</td>\n",
       "      <td>2023</td>\n",
       "      <td>9</td>\n",
       "      <td>30</td>\n",
       "      <td>...</td>\n",
       "      <td>0</td>\n",
       "      <td>0</td>\n",
       "      <td>0</td>\n",
       "      <td>0</td>\n",
       "      <td>0</td>\n",
       "      <td>0</td>\n",
       "      <td>0</td>\n",
       "      <td>0</td>\n",
       "      <td>0</td>\n",
       "      <td>0</td>\n",
       "    </tr>\n",
       "    <tr>\n",
       "      <th>41623</th>\n",
       "      <td>16.6</td>\n",
       "      <td>0.0</td>\n",
       "      <td>False</td>\n",
       "      <td>False</td>\n",
       "      <td>5</td>\n",
       "      <td>301</td>\n",
       "      <td>2</td>\n",
       "      <td>2023</td>\n",
       "      <td>9</td>\n",
       "      <td>30</td>\n",
       "      <td>...</td>\n",
       "      <td>0</td>\n",
       "      <td>0</td>\n",
       "      <td>0</td>\n",
       "      <td>0</td>\n",
       "      <td>0</td>\n",
       "      <td>0</td>\n",
       "      <td>0</td>\n",
       "      <td>0</td>\n",
       "      <td>1</td>\n",
       "      <td>0</td>\n",
       "    </tr>\n",
       "  </tbody>\n",
       "</table>\n",
       "<p>41624 rows × 39 columns</p>\n",
       "</div>"
      ],
      "text/plain": [
       "       Temperature  Precipitation  Summer_PT  Winter_PT  Day  Line  Min_Delay  \\\n",
       "0             -2.0            0.0      False       True    4   501          2   \n",
       "1             -2.0            0.0      False       True    4   504          2   \n",
       "2             -1.4            0.0      False       True    4   504          2   \n",
       "3             -1.4            0.0      False       True    4   504          2   \n",
       "4              0.4            0.0      False      False    4   506          2   \n",
       "...            ...            ...        ...        ...  ...   ...        ...   \n",
       "41619         16.6            0.0      False      False    5   511          2   \n",
       "41620         16.9            0.0      False      False    5   505          2   \n",
       "41621         16.9            0.0      False      False    5   513          2   \n",
       "41622         16.9            0.0      False      False    5   501          2   \n",
       "41623         16.6            0.0      False      False    5   301          2   \n",
       "\n",
       "       Year  Month  Date  ...  Incident_Late  Incident_Late Entering Service  \\\n",
       "0      2021      1     1  ...              0                               0   \n",
       "1      2021      1     1  ...              0                               0   \n",
       "2      2021      1     1  ...              0                               0   \n",
       "3      2021      1     1  ...              0                               0   \n",
       "4      2021      1     1  ...              0                               0   \n",
       "...     ...    ...   ...  ...            ...                             ...   \n",
       "41619  2023      9    30  ...              0                               0   \n",
       "41620  2023      9    30  ...              0                               0   \n",
       "41621  2023      9    30  ...              0                               0   \n",
       "41622  2023      9    30  ...              0                               0   \n",
       "41623  2023      9    30  ...              0                               0   \n",
       "\n",
       "       Incident_Late Leaving Garage  Incident_Management  Incident_Mechanical  \\\n",
       "0                                 0                    0                    0   \n",
       "1                                 0                    0                    0   \n",
       "2                                 0                    0                    0   \n",
       "3                                 0                    0                    0   \n",
       "4                                 0                    0                    1   \n",
       "...                             ...                  ...                  ...   \n",
       "41619                             0                    0                    0   \n",
       "41620                             0                    0                    0   \n",
       "41621                             0                    0                    0   \n",
       "41622                             0                    0                    0   \n",
       "41623                             0                    0                    0   \n",
       "\n",
       "       Incident_Operations  Incident_Overhead  Incident_Rail/Switches  \\\n",
       "0                        1                  0                       0   \n",
       "1                        1                  0                       0   \n",
       "2                        0                  0                       0   \n",
       "3                        0                  0                       0   \n",
       "4                        0                  0                       0   \n",
       "...                    ...                ...                     ...   \n",
       "41619                    0                  0                       0   \n",
       "41620                    0                  0                       0   \n",
       "41621                    1                  0                       0   \n",
       "41622                    0                  0                       0   \n",
       "41623                    0                  0                       0   \n",
       "\n",
       "       Incident_Security  Incident_Utilized Off Route  \n",
       "0                      0                            0  \n",
       "1                      0                            0  \n",
       "2                      0                            0  \n",
       "3                      0                            0  \n",
       "4                      0                            0  \n",
       "...                  ...                          ...  \n",
       "41619                  0                            0  \n",
       "41620                  1                            0  \n",
       "41621                  0                            0  \n",
       "41622                  0                            0  \n",
       "41623                  1                            0  \n",
       "\n",
       "[41624 rows x 39 columns]"
      ]
     },
     "execution_count": 5,
     "metadata": {},
     "output_type": "execute_result"
    }
   ],
   "source": [
    "#loading data\n",
    "df=pd.read_csv('train_test_model.csv')\n",
    "df"
   ]
  },
  {
   "cell_type": "markdown",
   "id": "ff4545e8",
   "metadata": {},
   "source": [
    "##  <a id='modelID'> XGBoost Model </a>"
   ]
  },
  {
   "cell_type": "code",
   "execution_count": 6,
   "id": "031abde9",
   "metadata": {},
   "outputs": [],
   "source": [
    "#Defining train and test\n",
    "\n",
    "X=df.drop('Min_Delay', axis=1)\n",
    "y=df['Min_Delay']\n",
    "\n",
    "X_train, X_test, y_train, y_test = train_test_split(X, y,test_size=0.3 ,random_state=101)"
   ]
  },
  {
   "cell_type": "code",
   "execution_count": 7,
   "id": "20d80aef",
   "metadata": {},
   "outputs": [
    {
     "name": "stdout",
     "output_type": "stream",
     "text": [
      "XGboost Train Accuracy: 0.7506177924217463\n",
      "XGboost Test Accuracy: 0.6321268417680974\n"
     ]
    }
   ],
   "source": [
    "# Initialize the XGBoost classifier\n",
    "train_model = XGBClassifier()\n",
    "\n",
    "# Train the model\n",
    "train_model.fit(X_train, y_train)\n",
    "\n",
    "# Make predictions on the test set\n",
    "y_pred = train_model.predict(X_test)\n",
    "\n",
    "# Evaluate the model\n",
    "#accuracy = accuracy_score(y_test, y_pred)\n",
    "DT_train_baseline = train_model.score(X_train, y_train)\n",
    "DT_test_baseline = train_model.score(X_test, y_test)\n",
    "\n",
    "# Display the results\n",
    "\n",
    "print(f\"XGboost Train Accuracy: {DT_train_baseline}\")\n",
    "print(f\"XGboost Test Accuracy: {DT_test_baseline}\")"
   ]
  },
  {
   "cell_type": "markdown",
   "id": "43b97e31",
   "metadata": {},
   "source": [
    "XGBoost improves its accuracy by correcting mistakes made by the previous models. Considering the baseline accuracy mentioned earlier, it appears that there may be overfitting in the training sets. Let's optimize the hyperparameters for better performance."
   ]
  },
  {
   "cell_type": "code",
   "execution_count": 50,
   "id": "320b667e",
   "metadata": {},
   "outputs": [],
   "source": [
    "#Find the best parameter \n",
    "# A parameter grid for XGBoost\n",
    "params = {\n",
    "        #'booster':['gbtree','gblinaer','dart'],\n",
    "        'min_child_weight': [1, 5, 10],\n",
    "        'subsample': [0.6, 0.8, 1.0],\n",
    "        'booster':['gbtree','dart'],\n",
    "        'colsample_bytree': [0.5,1.0,1.5]\n",
    "        }"
   ]
  },
  {
   "cell_type": "code",
   "execution_count": 51,
   "id": "c6632603",
   "metadata": {},
   "outputs": [],
   "source": [
    "trial_model = XGBClassifier()\n",
    "\n",
    "GS = GridSearchCV(estimator=trial_model, param_grid=params, cv=5, n_jobs=-1, verbose=True, scoring='accuracy')"
   ]
  },
  {
   "cell_type": "code",
   "execution_count": 52,
   "id": "0d9ae72c",
   "metadata": {},
   "outputs": [
    {
     "name": "stdout",
     "output_type": "stream",
     "text": [
      "Fitting 5 folds for each of 54 candidates, totalling 270 fits\n"
     ]
    },
    {
     "data": {
      "text/html": [
       "<style>#sk-container-id-5 {color: black;}#sk-container-id-5 pre{padding: 0;}#sk-container-id-5 div.sk-toggleable {background-color: white;}#sk-container-id-5 label.sk-toggleable__label {cursor: pointer;display: block;width: 100%;margin-bottom: 0;padding: 0.3em;box-sizing: border-box;text-align: center;}#sk-container-id-5 label.sk-toggleable__label-arrow:before {content: \"▸\";float: left;margin-right: 0.25em;color: #696969;}#sk-container-id-5 label.sk-toggleable__label-arrow:hover:before {color: black;}#sk-container-id-5 div.sk-estimator:hover label.sk-toggleable__label-arrow:before {color: black;}#sk-container-id-5 div.sk-toggleable__content {max-height: 0;max-width: 0;overflow: hidden;text-align: left;background-color: #f0f8ff;}#sk-container-id-5 div.sk-toggleable__content pre {margin: 0.2em;color: black;border-radius: 0.25em;background-color: #f0f8ff;}#sk-container-id-5 input.sk-toggleable__control:checked~div.sk-toggleable__content {max-height: 200px;max-width: 100%;overflow: auto;}#sk-container-id-5 input.sk-toggleable__control:checked~label.sk-toggleable__label-arrow:before {content: \"▾\";}#sk-container-id-5 div.sk-estimator input.sk-toggleable__control:checked~label.sk-toggleable__label {background-color: #d4ebff;}#sk-container-id-5 div.sk-label input.sk-toggleable__control:checked~label.sk-toggleable__label {background-color: #d4ebff;}#sk-container-id-5 input.sk-hidden--visually {border: 0;clip: rect(1px 1px 1px 1px);clip: rect(1px, 1px, 1px, 1px);height: 1px;margin: -1px;overflow: hidden;padding: 0;position: absolute;width: 1px;}#sk-container-id-5 div.sk-estimator {font-family: monospace;background-color: #f0f8ff;border: 1px dotted black;border-radius: 0.25em;box-sizing: border-box;margin-bottom: 0.5em;}#sk-container-id-5 div.sk-estimator:hover {background-color: #d4ebff;}#sk-container-id-5 div.sk-parallel-item::after {content: \"\";width: 100%;border-bottom: 1px solid gray;flex-grow: 1;}#sk-container-id-5 div.sk-label:hover label.sk-toggleable__label {background-color: #d4ebff;}#sk-container-id-5 div.sk-serial::before {content: \"\";position: absolute;border-left: 1px solid gray;box-sizing: border-box;top: 0;bottom: 0;left: 50%;z-index: 0;}#sk-container-id-5 div.sk-serial {display: flex;flex-direction: column;align-items: center;background-color: white;padding-right: 0.2em;padding-left: 0.2em;position: relative;}#sk-container-id-5 div.sk-item {position: relative;z-index: 1;}#sk-container-id-5 div.sk-parallel {display: flex;align-items: stretch;justify-content: center;background-color: white;position: relative;}#sk-container-id-5 div.sk-item::before, #sk-container-id-5 div.sk-parallel-item::before {content: \"\";position: absolute;border-left: 1px solid gray;box-sizing: border-box;top: 0;bottom: 0;left: 50%;z-index: -1;}#sk-container-id-5 div.sk-parallel-item {display: flex;flex-direction: column;z-index: 1;position: relative;background-color: white;}#sk-container-id-5 div.sk-parallel-item:first-child::after {align-self: flex-end;width: 50%;}#sk-container-id-5 div.sk-parallel-item:last-child::after {align-self: flex-start;width: 50%;}#sk-container-id-5 div.sk-parallel-item:only-child::after {width: 0;}#sk-container-id-5 div.sk-dashed-wrapped {border: 1px dashed gray;margin: 0 0.4em 0.5em 0.4em;box-sizing: border-box;padding-bottom: 0.4em;background-color: white;}#sk-container-id-5 div.sk-label label {font-family: monospace;font-weight: bold;display: inline-block;line-height: 1.2em;}#sk-container-id-5 div.sk-label-container {text-align: center;}#sk-container-id-5 div.sk-container {/* jupyter's `normalize.less` sets `[hidden] { display: none; }` but bootstrap.min.css set `[hidden] { display: none !important; }` so we also need the `!important` here to be able to override the default hidden behavior on the sphinx rendered scikit-learn.org. See: https://github.com/scikit-learn/scikit-learn/issues/21755 */display: inline-block !important;position: relative;}#sk-container-id-5 div.sk-text-repr-fallback {display: none;}</style><div id=\"sk-container-id-5\" class=\"sk-top-container\"><div class=\"sk-text-repr-fallback\"><pre>GridSearchCV(cv=5,\n",
       "             estimator=XGBClassifier(base_score=None, booster=None,\n",
       "                                     callbacks=None, colsample_bylevel=None,\n",
       "                                     colsample_bynode=None,\n",
       "                                     colsample_bytree=None, device=None,\n",
       "                                     early_stopping_rounds=None,\n",
       "                                     enable_categorical=False, eval_metric=None,\n",
       "                                     feature_types=None, gamma=None,\n",
       "                                     grow_policy=None, importance_type=None,\n",
       "                                     interaction_constraints=None,\n",
       "                                     learning_rate=None,...\n",
       "                                     max_delta_step=None, max_depth=None,\n",
       "                                     max_leaves=None, min_child_weight=None,\n",
       "                                     missing=nan, monotone_constraints=None,\n",
       "                                     multi_strategy=None, n_estimators=None,\n",
       "                                     n_jobs=None, num_parallel_tree=None,\n",
       "                                     random_state=None, ...),\n",
       "             n_jobs=-1,\n",
       "             param_grid={&#x27;booster&#x27;: [&#x27;gbtree&#x27;, &#x27;dart&#x27;],\n",
       "                         &#x27;colsample_bytree&#x27;: [0.5, 1.0, 1.5],\n",
       "                         &#x27;min_child_weight&#x27;: [1, 5, 10],\n",
       "                         &#x27;subsample&#x27;: [0.6, 0.8, 1.0]},\n",
       "             scoring=&#x27;accuracy&#x27;, verbose=True)</pre><b>In a Jupyter environment, please rerun this cell to show the HTML representation or trust the notebook. <br />On GitHub, the HTML representation is unable to render, please try loading this page with nbviewer.org.</b></div><div class=\"sk-container\" hidden><div class=\"sk-item sk-dashed-wrapped\"><div class=\"sk-label-container\"><div class=\"sk-label sk-toggleable\"><input class=\"sk-toggleable__control sk-hidden--visually\" id=\"sk-estimator-id-13\" type=\"checkbox\" ><label for=\"sk-estimator-id-13\" class=\"sk-toggleable__label sk-toggleable__label-arrow\">GridSearchCV</label><div class=\"sk-toggleable__content\"><pre>GridSearchCV(cv=5,\n",
       "             estimator=XGBClassifier(base_score=None, booster=None,\n",
       "                                     callbacks=None, colsample_bylevel=None,\n",
       "                                     colsample_bynode=None,\n",
       "                                     colsample_bytree=None, device=None,\n",
       "                                     early_stopping_rounds=None,\n",
       "                                     enable_categorical=False, eval_metric=None,\n",
       "                                     feature_types=None, gamma=None,\n",
       "                                     grow_policy=None, importance_type=None,\n",
       "                                     interaction_constraints=None,\n",
       "                                     learning_rate=None,...\n",
       "                                     max_delta_step=None, max_depth=None,\n",
       "                                     max_leaves=None, min_child_weight=None,\n",
       "                                     missing=nan, monotone_constraints=None,\n",
       "                                     multi_strategy=None, n_estimators=None,\n",
       "                                     n_jobs=None, num_parallel_tree=None,\n",
       "                                     random_state=None, ...),\n",
       "             n_jobs=-1,\n",
       "             param_grid={&#x27;booster&#x27;: [&#x27;gbtree&#x27;, &#x27;dart&#x27;],\n",
       "                         &#x27;colsample_bytree&#x27;: [0.5, 1.0, 1.5],\n",
       "                         &#x27;min_child_weight&#x27;: [1, 5, 10],\n",
       "                         &#x27;subsample&#x27;: [0.6, 0.8, 1.0]},\n",
       "             scoring=&#x27;accuracy&#x27;, verbose=True)</pre></div></div></div><div class=\"sk-parallel\"><div class=\"sk-parallel-item\"><div class=\"sk-item\"><div class=\"sk-label-container\"><div class=\"sk-label sk-toggleable\"><input class=\"sk-toggleable__control sk-hidden--visually\" id=\"sk-estimator-id-14\" type=\"checkbox\" ><label for=\"sk-estimator-id-14\" class=\"sk-toggleable__label sk-toggleable__label-arrow\">estimator: XGBClassifier</label><div class=\"sk-toggleable__content\"><pre>XGBClassifier(base_score=None, booster=None, callbacks=None,\n",
       "              colsample_bylevel=None, colsample_bynode=None,\n",
       "              colsample_bytree=None, device=None, early_stopping_rounds=None,\n",
       "              enable_categorical=False, eval_metric=None, feature_types=None,\n",
       "              gamma=None, grow_policy=None, importance_type=None,\n",
       "              interaction_constraints=None, learning_rate=None, max_bin=None,\n",
       "              max_cat_threshold=None, max_cat_to_onehot=None,\n",
       "              max_delta_step=None, max_depth=None, max_leaves=None,\n",
       "              min_child_weight=None, missing=nan, monotone_constraints=None,\n",
       "              multi_strategy=None, n_estimators=None, n_jobs=None,\n",
       "              num_parallel_tree=None, random_state=None, ...)</pre></div></div></div><div class=\"sk-serial\"><div class=\"sk-item\"><div class=\"sk-estimator sk-toggleable\"><input class=\"sk-toggleable__control sk-hidden--visually\" id=\"sk-estimator-id-15\" type=\"checkbox\" ><label for=\"sk-estimator-id-15\" class=\"sk-toggleable__label sk-toggleable__label-arrow\">XGBClassifier</label><div class=\"sk-toggleable__content\"><pre>XGBClassifier(base_score=None, booster=None, callbacks=None,\n",
       "              colsample_bylevel=None, colsample_bynode=None,\n",
       "              colsample_bytree=None, device=None, early_stopping_rounds=None,\n",
       "              enable_categorical=False, eval_metric=None, feature_types=None,\n",
       "              gamma=None, grow_policy=None, importance_type=None,\n",
       "              interaction_constraints=None, learning_rate=None, max_bin=None,\n",
       "              max_cat_threshold=None, max_cat_to_onehot=None,\n",
       "              max_delta_step=None, max_depth=None, max_leaves=None,\n",
       "              min_child_weight=None, missing=nan, monotone_constraints=None,\n",
       "              multi_strategy=None, n_estimators=None, n_jobs=None,\n",
       "              num_parallel_tree=None, random_state=None, ...)</pre></div></div></div></div></div></div></div></div></div></div>"
      ],
      "text/plain": [
       "GridSearchCV(cv=5,\n",
       "             estimator=XGBClassifier(base_score=None, booster=None,\n",
       "                                     callbacks=None, colsample_bylevel=None,\n",
       "                                     colsample_bynode=None,\n",
       "                                     colsample_bytree=None, device=None,\n",
       "                                     early_stopping_rounds=None,\n",
       "                                     enable_categorical=False, eval_metric=None,\n",
       "                                     feature_types=None, gamma=None,\n",
       "                                     grow_policy=None, importance_type=None,\n",
       "                                     interaction_constraints=None,\n",
       "                                     learning_rate=None,...\n",
       "                                     max_delta_step=None, max_depth=None,\n",
       "                                     max_leaves=None, min_child_weight=None,\n",
       "                                     missing=nan, monotone_constraints=None,\n",
       "                                     multi_strategy=None, n_estimators=None,\n",
       "                                     n_jobs=None, num_parallel_tree=None,\n",
       "                                     random_state=None, ...),\n",
       "             n_jobs=-1,\n",
       "             param_grid={'booster': ['gbtree', 'dart'],\n",
       "                         'colsample_bytree': [0.5, 1.0, 1.5],\n",
       "                         'min_child_weight': [1, 5, 10],\n",
       "                         'subsample': [0.6, 0.8, 1.0]},\n",
       "             scoring='accuracy', verbose=True)"
      ]
     },
     "execution_count": 52,
     "metadata": {},
     "output_type": "execute_result"
    }
   ],
   "source": [
    "#fitting the second gridsearch\n",
    "GS.fit(X_train, y_train)"
   ]
  },
  {
   "cell_type": "code",
   "execution_count": 16,
   "id": "b4296afe",
   "metadata": {},
   "outputs": [
    {
     "name": "stdout",
     "output_type": "stream",
     "text": [
      "Best Parameters: {'max_depth': 5, 'min_child_weight': 10, 'subsample': 0.8}\n",
      "\n",
      "Best Score: 0.6247599717736488\n"
     ]
    }
   ],
   "source": [
    "#first\n",
    "print('Best Parameters:',GS.best_params_,end='\\n\\n')\n",
    "print('Best Score:',GS.best_score_)"
   ]
  },
  {
   "cell_type": "code",
   "execution_count": 47,
   "id": "17ed2ed1",
   "metadata": {},
   "outputs": [
    {
     "name": "stdout",
     "output_type": "stream",
     "text": [
      "XGBoost Train Accuracy: 0.7087108731466227\n",
      "XGBoost Test Accuracy: 0.6301249199231262\n"
     ]
    }
   ],
   "source": [
    "#Instantiate the model\n",
    "xgbc_train_model = XGBClassifier(max_depth=6,min_child_weight=12,subsample=1.0, booster='gbtree', \\\n",
    "                                colsample_bytree=0.5)\n",
    "\n",
    "#Fit the model\n",
    "xgbc_train_model.fit(X_train, y_train)\n",
    "\n",
    "#Predicting the model\n",
    "y_train_pred = xgbc_train_model.predict(X_train)\n",
    "y_test_pred = xgbc_train_model.predict(X_test)\n",
    "\n",
    "#finding the accuracy\n",
    "train_accuracy= accuracy_score(y_train, y_train_pred)\n",
    "test_accuracy= accuracy_score(y_test, y_test_pred)\n",
    "\n",
    "# Display the results\n",
    "print(f\"XGBoost Train Accuracy: {train_accuracy}\")\n",
    "print(f\"XGBoost Test Accuracy: {test_accuracy}\")"
   ]
  },
  {
   "cell_type": "markdown",
   "id": "80325a1e",
   "metadata": {},
   "source": [
    "It is giving us slight improvement but the model is overfitting."
   ]
  },
  {
   "cell_type": "code",
   "execution_count": 42,
   "id": "4873bb16",
   "metadata": {},
   "outputs": [],
   "source": [
    "#looking at the best correlation features\n",
    "# Get feature importances\n",
    "feature_importances = pd.DataFrame({'Feature': X.columns, 'Importance': xgbc_train_model.feature_importances_})\n",
    "feature_importances = feature_importances.sort_values(by='Importance', ascending=False).head(15)"
   ]
  },
  {
   "cell_type": "code",
   "execution_count": 43,
   "id": "9fe94240",
   "metadata": {},
   "outputs": [
    {
     "data": {
      "image/png": "[encoded data removed]",
      "text/plain": [
       "<Figure size 640x480 with 1 Axes>"
      ]
     },
     "metadata": {},
     "output_type": "display_data"
    }
   ],
   "source": [
    "# Plot the feature importances\n",
    "plt.figure()\n",
    "plt.barh(feature_importances['Feature'], feature_importances['Importance'], color='crimson')\n",
    "plt.xlabel('Importance')\n",
    "plt.title('Feature Importances')\n",
    "plt.show()"
   ]
  },
  {
   "cell_type": "markdown",
   "id": "2b7edd06",
   "metadata": {},
   "source": [
    "Interstingly, the cause of delay seems to have the most correlation in predicting delays in this model."
   ]
  },
  {
   "cell_type": "markdown",
   "id": "f6536c76",
   "metadata": {},
   "source": [
    "## Model Evaluation"
   ]
  },
  {
   "cell_type": "code",
   "execution_count": 45,
   "id": "f6f6c236",
   "metadata": {},
   "outputs": [
    {
     "name": "stdout",
     "output_type": "stream",
     "text": [
      "Classification Report:\n",
      "              precision    recall  f1-score   support\n",
      "\n",
      "           0       0.62      0.51      0.56      3376\n",
      "           1       0.63      0.65      0.64      4523\n",
      "           2       0.63      0.70      0.66      4589\n",
      "\n",
      "    accuracy                           0.63     12488\n",
      "   macro avg       0.63      0.62      0.62     12488\n",
      "weighted avg       0.63      0.63      0.63     12488\n",
      "\n",
      "\n",
      "\n",
      "Confusion Matrix:\n"
     ]
    },
    {
     "data": {
      "text/html": [
       "<div>\n",
       "<style scoped>\n",
       "    .dataframe tbody tr th:only-of-type {\n",
       "        vertical-align: middle;\n",
       "    }\n",
       "\n",
       "    .dataframe tbody tr th {\n",
       "        vertical-align: top;\n",
       "    }\n",
       "\n",
       "    .dataframe thead th {\n",
       "        text-align: right;\n",
       "    }\n",
       "</style>\n",
       "<table border=\"1\" class=\"dataframe\">\n",
       "  <thead>\n",
       "    <tr style=\"text-align: right;\">\n",
       "      <th></th>\n",
       "      <th>Predicted-Slight Delay</th>\n",
       "      <th>Predicted-Moderate Delay</th>\n",
       "      <th>Predicted-Severe Delay</th>\n",
       "    </tr>\n",
       "  </thead>\n",
       "  <tbody>\n",
       "    <tr>\n",
       "      <th>True-Slight Delay</th>\n",
       "      <td>1724</td>\n",
       "      <td>840</td>\n",
       "      <td>812</td>\n",
       "    </tr>\n",
       "    <tr>\n",
       "      <th>True-Moderate Delay</th>\n",
       "      <td>549</td>\n",
       "      <td>2940</td>\n",
       "      <td>1034</td>\n",
       "    </tr>\n",
       "    <tr>\n",
       "      <th>True-Severe Delay</th>\n",
       "      <td>496</td>\n",
       "      <td>888</td>\n",
       "      <td>3205</td>\n",
       "    </tr>\n",
       "  </tbody>\n",
       "</table>\n",
       "</div>"
      ],
      "text/plain": [
       "                     Predicted-Slight Delay  Predicted-Moderate Delay  \\\n",
       "True-Slight Delay                      1724                       840   \n",
       "True-Moderate Delay                     549                      2940   \n",
       "True-Severe Delay                       496                       888   \n",
       "\n",
       "                     Predicted-Severe Delay  \n",
       "True-Slight Delay                       812  \n",
       "True-Moderate Delay                    1034  \n",
       "True-Severe Delay                      3205  "
      ]
     },
     "metadata": {},
     "output_type": "display_data"
    },
    {
     "data": {
      "image/png": "[encoded data removed]",
      "text/plain": [
       "<Figure size 640x480 with 2 Axes>"
      ]
     },
     "metadata": {},
     "output_type": "display_data"
    }
   ],
   "source": [
    "#Confusion Matrix\n",
    "#Get class predictions\n",
    "y_pred = xgbc_train_model.predict(X_test)\n",
    "\n",
    "# Generate confusion matrix\n",
    "df_matrix = confusion_matrix(y_test, y_pred)\n",
    "\n",
    "# label rows and columns\n",
    "df = pd.DataFrame(\n",
    "    df_matrix, \n",
    "    columns = [\"Predicted-Slight Delay\",\"Predicted-Moderate Delay\", \"Predicted-Severe Delay\"],\n",
    "    index = [\"True-Slight Delay\",\"True-Moderate Delay\", \"True-Severe Delay\"]\n",
    ")\n",
    "\n",
    "\n",
    "from sklearn.metrics import classification_report\n",
    "# the function expects the estimator, inputs and target as parameters\n",
    "ConfusionMatrixDisplay.from_estimator(xgbc_train_model, X_test, y_test);\n",
    "\n",
    "classification_report = classification_report(y_test, y_test_pred)\n",
    "print('Classification Report:')\n",
    "print(classification_report)\n",
    "\n",
    "print('\\n')\n",
    "print('Confusion Matrix:')\n",
    "display(df)"
   ]
  },
  {
   "cell_type": "markdown",
   "id": "9bcb83f8",
   "metadata": {},
   "source": [
    "- The overall accuracy of the model is 63%.\n",
    "- Each class has about 62% of precision accuracy.\n",
    "- By looking at the recall measure, Moderate Delay seems to have the highest sensitivity.\n",
    "- Moderate Delay has misclassification into Slight (approx. 550 instances) and Severe(approx. 1000 instances) Delay."
   ]
  },
  {
   "cell_type": "markdown",
   "id": "5e0d5179",
   "metadata": {},
   "source": [
    "## <a id='summaryID'> Summary </a>"
   ]
  },
  {
   "cell_type": "markdown",
   "id": "ab1ac4d9",
   "metadata": {},
   "source": [
    "In conclusion, it appears XGboost model performs better at predicting delay by 63%. It is giving us slight more accuracy compared to the Decision Tree model.  "
   ]
  },
  {
   "cell_type": "markdown",
   "id": "e7bad62d",
   "metadata": {},
   "source": [
    "### <a id='saveID'> Model Saving </a>"
   ]
  },
  {
   "cell_type": "code",
   "execution_count": 53,
   "id": "cd2ec0db",
   "metadata": {},
   "outputs": [
    {
     "data": {
      "text/plain": [
       "['XGBoost_model.joblib']"
      ]
     },
     "execution_count": 53,
     "metadata": {},
     "output_type": "execute_result"
    }
   ],
   "source": [
    "from joblib import dump, load\n",
    "\n",
    "# Save the model\n",
    "dump(xgbc_train_model, 'XGBoost_model.joblib')"
   ]
  }
 ],
 "metadata": {
  "kernelspec": {
   "display_name": "Python 3 (ipykernel)",
   "language": "python",
   "name": "python3"
  },
  "language_info": {
   "codemirror_mode": {
    "name": "ipython",
    "version": 3
   },
   "file_extension": ".py",
   "mimetype": "text/x-python",
   "name": "python",
   "nbconvert_exporter": "python",
   "pygments_lexer": "ipython3",
   "version": "3.11.4"
  }
 },
 "nbformat": 4,
 "nbformat_minor": 5
}
